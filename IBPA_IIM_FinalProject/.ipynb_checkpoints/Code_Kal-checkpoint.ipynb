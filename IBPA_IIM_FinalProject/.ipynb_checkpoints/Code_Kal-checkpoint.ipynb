{
 "cells": [
  {
   "cell_type": "code",
   "execution_count": 1,
   "metadata": {},
   "outputs": [],
   "source": [
    "import numpy as np\n",
    "import pandas as pd\n",
    "import matplotlib.pyplot as plt\n",
    "%matplotlib inline\n",
    "import seaborn as sns\n",
    "\n",
    "from sklearn.model_selection import train_test_split\n",
    "from sklearn.tree import DecisionTreeClassifier\n",
    "from sklearn.metrics import accuracy_score"
   ]
  },
  {
   "cell_type": "code",
   "execution_count": 2,
   "metadata": {},
   "outputs": [],
   "source": [
    "df = pd.read_csv(\"Model_data.csv\")"
   ]
  },
  {
   "cell_type": "code",
   "execution_count": 3,
   "metadata": {},
   "outputs": [
    {
     "name": "stdout",
     "output_type": "stream",
     "text": [
      "<class 'pandas.core.frame.DataFrame'>\n",
      "RangeIndex: 20000 entries, 0 to 19999\n",
      "Data columns (total 8 columns):\n",
      " #   Column          Non-Null Count  Dtype  \n",
      "---  ------          --------------  -----  \n",
      " 0   Target          20000 non-null  int64  \n",
      " 1   Age             20000 non-null  int64  \n",
      " 2   Gender          20000 non-null  object \n",
      " 3   Balance         20000 non-null  float64\n",
      " 4   Occupation      20000 non-null  object \n",
      " 5   No_OF_CR_TXNS   20000 non-null  int64  \n",
      " 6   SCR             20000 non-null  int64  \n",
      " 7   Holding_Period  20000 non-null  int64  \n",
      "dtypes: float64(1), int64(5), object(2)\n",
      "memory usage: 1.2+ MB\n"
     ]
    }
   ],
   "source": [
    "df.info()"
   ]
  },
  {
   "cell_type": "code",
   "execution_count": 4,
   "metadata": {},
   "outputs": [
    {
     "data": {
      "text/plain": [
       "(20000, 8)"
      ]
     },
     "execution_count": 4,
     "metadata": {},
     "output_type": "execute_result"
    }
   ],
   "source": [
    "df.shape"
   ]
  },
  {
   "cell_type": "code",
   "execution_count": 5,
   "metadata": {},
   "outputs": [
    {
     "data": {
      "text/html": [
       "<div>\n",
       "<style scoped>\n",
       "    .dataframe tbody tr th:only-of-type {\n",
       "        vertical-align: middle;\n",
       "    }\n",
       "\n",
       "    .dataframe tbody tr th {\n",
       "        vertical-align: top;\n",
       "    }\n",
       "\n",
       "    .dataframe thead th {\n",
       "        text-align: right;\n",
       "    }\n",
       "</style>\n",
       "<table border=\"1\" class=\"dataframe\">\n",
       "  <thead>\n",
       "    <tr style=\"text-align: right;\">\n",
       "      <th></th>\n",
       "      <th>Target</th>\n",
       "      <th>Age</th>\n",
       "      <th>Gender</th>\n",
       "      <th>Balance</th>\n",
       "      <th>Occupation</th>\n",
       "      <th>No_OF_CR_TXNS</th>\n",
       "      <th>SCR</th>\n",
       "      <th>Holding_Period</th>\n",
       "    </tr>\n",
       "  </thead>\n",
       "  <tbody>\n",
       "    <tr>\n",
       "      <th>0</th>\n",
       "      <td>0</td>\n",
       "      <td>41</td>\n",
       "      <td>M</td>\n",
       "      <td>91519.92</td>\n",
       "      <td>SELF-EMP</td>\n",
       "      <td>38</td>\n",
       "      <td>926</td>\n",
       "      <td>15</td>\n",
       "    </tr>\n",
       "    <tr>\n",
       "      <th>1</th>\n",
       "      <td>0</td>\n",
       "      <td>52</td>\n",
       "      <td>M</td>\n",
       "      <td>117288.96</td>\n",
       "      <td>SAL</td>\n",
       "      <td>17</td>\n",
       "      <td>768</td>\n",
       "      <td>13</td>\n",
       "    </tr>\n",
       "    <tr>\n",
       "      <th>2</th>\n",
       "      <td>0</td>\n",
       "      <td>31</td>\n",
       "      <td>F</td>\n",
       "      <td>259827.44</td>\n",
       "      <td>SENP</td>\n",
       "      <td>8</td>\n",
       "      <td>816</td>\n",
       "      <td>5</td>\n",
       "    </tr>\n",
       "    <tr>\n",
       "      <th>3</th>\n",
       "      <td>0</td>\n",
       "      <td>45</td>\n",
       "      <td>F</td>\n",
       "      <td>26677.55</td>\n",
       "      <td>PROF</td>\n",
       "      <td>14</td>\n",
       "      <td>353</td>\n",
       "      <td>18</td>\n",
       "    </tr>\n",
       "    <tr>\n",
       "      <th>4</th>\n",
       "      <td>0</td>\n",
       "      <td>39</td>\n",
       "      <td>F</td>\n",
       "      <td>43440.31</td>\n",
       "      <td>SENP</td>\n",
       "      <td>1</td>\n",
       "      <td>751</td>\n",
       "      <td>31</td>\n",
       "    </tr>\n",
       "  </tbody>\n",
       "</table>\n",
       "</div>"
      ],
      "text/plain": [
       "   Target  Age Gender    Balance Occupation  No_OF_CR_TXNS  SCR  \\\n",
       "0       0   41      M   91519.92   SELF-EMP             38  926   \n",
       "1       0   52      M  117288.96        SAL             17  768   \n",
       "2       0   31      F  259827.44       SENP              8  816   \n",
       "3       0   45      F   26677.55       PROF             14  353   \n",
       "4       0   39      F   43440.31       SENP              1  751   \n",
       "\n",
       "   Holding_Period  \n",
       "0              15  \n",
       "1              13  \n",
       "2               5  \n",
       "3              18  \n",
       "4              31  "
      ]
     },
     "execution_count": 5,
     "metadata": {},
     "output_type": "execute_result"
    }
   ],
   "source": [
    "df.head()"
   ]
  },
  {
   "cell_type": "code",
   "execution_count": 6,
   "metadata": {},
   "outputs": [
    {
     "name": "stdout",
     "output_type": "stream",
     "text": [
      "Age Groups\n",
      " [41 52 31 45 39 33 26 38 44 28 42 43 49 46 35 23 25 37 47 54 48 50 29 24\n",
      " 40 36 32 34 53 55 30 27 21 51 22]\n",
      "Types of Occupations ['SELF-EMP' 'SAL' 'SENP' 'PROF']\n"
     ]
    }
   ],
   "source": [
    "#Finding all AGE groups\n",
    "print(\"Age Groups\\n\",df[\"Age\"].unique())\n",
    "\n",
    "#Finding all types of OCCUPATIONS\n",
    "print(\"Types of Occupations\",df[\"Occupation\"].unique())"
   ]
  },
  {
   "cell_type": "code",
   "execution_count": 7,
   "metadata": {},
   "outputs": [
    {
     "data": {
      "text/html": [
       "<div>\n",
       "<style scoped>\n",
       "    .dataframe tbody tr th:only-of-type {\n",
       "        vertical-align: middle;\n",
       "    }\n",
       "\n",
       "    .dataframe tbody tr th {\n",
       "        vertical-align: top;\n",
       "    }\n",
       "\n",
       "    .dataframe thead th {\n",
       "        text-align: right;\n",
       "    }\n",
       "</style>\n",
       "<table border=\"1\" class=\"dataframe\">\n",
       "  <thead>\n",
       "    <tr style=\"text-align: right;\">\n",
       "      <th></th>\n",
       "      <th>Target</th>\n",
       "      <th>Age</th>\n",
       "      <th>Balance</th>\n",
       "      <th>No_OF_CR_TXNS</th>\n",
       "      <th>SCR</th>\n",
       "      <th>Holding_Period</th>\n",
       "    </tr>\n",
       "  </thead>\n",
       "  <tbody>\n",
       "    <tr>\n",
       "      <th>count</th>\n",
       "      <td>20000.000000</td>\n",
       "      <td>20000.000000</td>\n",
       "      <td>2.000000e+04</td>\n",
       "      <td>20000.000000</td>\n",
       "      <td>20000.000000</td>\n",
       "      <td>20000.000000</td>\n",
       "    </tr>\n",
       "    <tr>\n",
       "      <th>mean</th>\n",
       "      <td>0.086650</td>\n",
       "      <td>38.396200</td>\n",
       "      <td>1.461813e+05</td>\n",
       "      <td>16.653050</td>\n",
       "      <td>557.136050</td>\n",
       "      <td>15.344100</td>\n",
       "    </tr>\n",
       "    <tr>\n",
       "      <th>std</th>\n",
       "      <td>0.281329</td>\n",
       "      <td>9.600179</td>\n",
       "      <td>1.698125e+05</td>\n",
       "      <td>12.977704</td>\n",
       "      <td>260.521453</td>\n",
       "      <td>8.952128</td>\n",
       "    </tr>\n",
       "    <tr>\n",
       "      <th>min</th>\n",
       "      <td>0.000000</td>\n",
       "      <td>21.000000</td>\n",
       "      <td>0.000000e+00</td>\n",
       "      <td>0.000000</td>\n",
       "      <td>100.000000</td>\n",
       "      <td>1.000000</td>\n",
       "    </tr>\n",
       "    <tr>\n",
       "      <th>25%</th>\n",
       "      <td>0.000000</td>\n",
       "      <td>30.000000</td>\n",
       "      <td>2.373692e+04</td>\n",
       "      <td>7.000000</td>\n",
       "      <td>333.000000</td>\n",
       "      <td>8.000000</td>\n",
       "    </tr>\n",
       "    <tr>\n",
       "      <th>50%</th>\n",
       "      <td>0.000000</td>\n",
       "      <td>38.000000</td>\n",
       "      <td>7.975574e+04</td>\n",
       "      <td>13.000000</td>\n",
       "      <td>560.000000</td>\n",
       "      <td>16.000000</td>\n",
       "    </tr>\n",
       "    <tr>\n",
       "      <th>75%</th>\n",
       "      <td>0.000000</td>\n",
       "      <td>47.000000</td>\n",
       "      <td>2.173106e+05</td>\n",
       "      <td>22.000000</td>\n",
       "      <td>784.000000</td>\n",
       "      <td>23.000000</td>\n",
       "    </tr>\n",
       "    <tr>\n",
       "      <th>max</th>\n",
       "      <td>1.000000</td>\n",
       "      <td>55.000000</td>\n",
       "      <td>1.246967e+06</td>\n",
       "      <td>50.000000</td>\n",
       "      <td>999.000000</td>\n",
       "      <td>31.000000</td>\n",
       "    </tr>\n",
       "  </tbody>\n",
       "</table>\n",
       "</div>"
      ],
      "text/plain": [
       "             Target           Age       Balance  No_OF_CR_TXNS           SCR  \\\n",
       "count  20000.000000  20000.000000  2.000000e+04   20000.000000  20000.000000   \n",
       "mean       0.086650     38.396200  1.461813e+05      16.653050    557.136050   \n",
       "std        0.281329      9.600179  1.698125e+05      12.977704    260.521453   \n",
       "min        0.000000     21.000000  0.000000e+00       0.000000    100.000000   \n",
       "25%        0.000000     30.000000  2.373692e+04       7.000000    333.000000   \n",
       "50%        0.000000     38.000000  7.975574e+04      13.000000    560.000000   \n",
       "75%        0.000000     47.000000  2.173106e+05      22.000000    784.000000   \n",
       "max        1.000000     55.000000  1.246967e+06      50.000000    999.000000   \n",
       "\n",
       "       Holding_Period  \n",
       "count    20000.000000  \n",
       "mean        15.344100  \n",
       "std          8.952128  \n",
       "min          1.000000  \n",
       "25%          8.000000  \n",
       "50%         16.000000  \n",
       "75%         23.000000  \n",
       "max         31.000000  "
      ]
     },
     "execution_count": 7,
     "metadata": {},
     "output_type": "execute_result"
    }
   ],
   "source": [
    "df.describe()"
   ]
  },
  {
   "cell_type": "markdown",
   "metadata": {},
   "source": [
    "Inferences: 1. Average age = 38 years\n",
    "            2. Average transactions done = 16 transactions\n",
    "            3. Average holding period = 15 Years, Most of the customers hold for 23 years"
   ]
  },
  {
   "cell_type": "markdown",
   "metadata": {},
   "source": [
    " Correlation summarizes the strength and direction of the linear (straight-line) association between two quantitative variables. Denoted by r, it takes values between -1 and +1. A positive value for r indicates a positive association, and a negative value for r indicates a negative association.\n",
    "The closer r is to 1 the closer the data points fall to a straight line, thus, the linear association is stronger. The closer r is to 0, making the linear association weaker."
   ]
  },
  {
   "cell_type": "code",
   "execution_count": 8,
   "metadata": {},
   "outputs": [],
   "source": [
    "corrmat = df.corr()"
   ]
  },
  {
   "cell_type": "code",
   "execution_count": 9,
   "metadata": {},
   "outputs": [
    {
     "data": {
      "text/plain": [
       "<matplotlib.axes._subplots.AxesSubplot at 0x2b19c2b65f8>"
      ]
     },
     "execution_count": 9,
     "metadata": {},
     "output_type": "execute_result"
    },
    {
     "data": {
      "image/png": "[encoded data removed]",
      "text/plain": [
       "<Figure size 432x288 with 2 Axes>"
      ]
     },
     "metadata": {
      "needs_background": "light"
     },
     "output_type": "display_data"
    }
   ],
   "source": [
    "sns.heatmap(corrmat, \n",
    "            xticklabels=corrmat.columns,\n",
    "            yticklabels=corrmat.columns,\n",
    "            cmap='RdBu_r',\n",
    "            annot=True,\n",
    "            linewidth=0.5)"
   ]
  },
  {
   "cell_type": "markdown",
   "metadata": {},
   "source": [
    "## Correlation Derivables\n",
    "\n",
    "#### Age Vs Target"
   ]
  },
  {
   "cell_type": "code",
   "execution_count": 10,
   "metadata": {},
   "outputs": [
    {
     "data": {
      "text/html": [
       "<div>\n",
       "<style scoped>\n",
       "    .dataframe tbody tr th:only-of-type {\n",
       "        vertical-align: middle;\n",
       "    }\n",
       "\n",
       "    .dataframe tbody tr th {\n",
       "        vertical-align: top;\n",
       "    }\n",
       "\n",
       "    .dataframe thead th {\n",
       "        text-align: right;\n",
       "    }\n",
       "</style>\n",
       "<table border=\"1\" class=\"dataframe\">\n",
       "  <thead>\n",
       "    <tr style=\"text-align: right;\">\n",
       "      <th></th>\n",
       "      <th>Target</th>\n",
       "      <th>Age</th>\n",
       "      <th>Balance</th>\n",
       "      <th>No_OF_CR_TXNS</th>\n",
       "      <th>SCR</th>\n",
       "      <th>Holding_Period</th>\n",
       "    </tr>\n",
       "  </thead>\n",
       "  <tbody>\n",
       "    <tr>\n",
       "      <th>count</th>\n",
       "      <td>374.0</td>\n",
       "      <td>374.000000</td>\n",
       "      <td>374.000000</td>\n",
       "      <td>374.000000</td>\n",
       "      <td>374.000000</td>\n",
       "      <td>374.000000</td>\n",
       "    </tr>\n",
       "    <tr>\n",
       "      <th>mean</th>\n",
       "      <td>1.0</td>\n",
       "      <td>26.697861</td>\n",
       "      <td>159037.062433</td>\n",
       "      <td>20.901070</td>\n",
       "      <td>617.508021</td>\n",
       "      <td>9.248663</td>\n",
       "    </tr>\n",
       "    <tr>\n",
       "      <th>std</th>\n",
       "      <td>0.0</td>\n",
       "      <td>2.594518</td>\n",
       "      <td>177205.769945</td>\n",
       "      <td>14.543946</td>\n",
       "      <td>250.294676</td>\n",
       "      <td>7.258142</td>\n",
       "    </tr>\n",
       "    <tr>\n",
       "      <th>min</th>\n",
       "      <td>1.0</td>\n",
       "      <td>21.000000</td>\n",
       "      <td>479.690000</td>\n",
       "      <td>0.000000</td>\n",
       "      <td>100.000000</td>\n",
       "      <td>1.000000</td>\n",
       "    </tr>\n",
       "    <tr>\n",
       "      <th>25%</th>\n",
       "      <td>1.0</td>\n",
       "      <td>25.000000</td>\n",
       "      <td>29475.680000</td>\n",
       "      <td>9.000000</td>\n",
       "      <td>435.750000</td>\n",
       "      <td>3.000000</td>\n",
       "    </tr>\n",
       "    <tr>\n",
       "      <th>50%</th>\n",
       "      <td>1.0</td>\n",
       "      <td>27.000000</td>\n",
       "      <td>91739.470000</td>\n",
       "      <td>17.000000</td>\n",
       "      <td>647.500000</td>\n",
       "      <td>7.000000</td>\n",
       "    </tr>\n",
       "    <tr>\n",
       "      <th>75%</th>\n",
       "      <td>1.0</td>\n",
       "      <td>29.000000</td>\n",
       "      <td>230058.290000</td>\n",
       "      <td>33.000000</td>\n",
       "      <td>837.750000</td>\n",
       "      <td>15.000000</td>\n",
       "    </tr>\n",
       "    <tr>\n",
       "      <th>max</th>\n",
       "      <td>1.0</td>\n",
       "      <td>30.000000</td>\n",
       "      <td>832435.720000</td>\n",
       "      <td>50.000000</td>\n",
       "      <td>997.000000</td>\n",
       "      <td>31.000000</td>\n",
       "    </tr>\n",
       "  </tbody>\n",
       "</table>\n",
       "</div>"
      ],
      "text/plain": [
       "       Target         Age        Balance  No_OF_CR_TXNS         SCR  \\\n",
       "count   374.0  374.000000     374.000000     374.000000  374.000000   \n",
       "mean      1.0   26.697861  159037.062433      20.901070  617.508021   \n",
       "std       0.0    2.594518  177205.769945      14.543946  250.294676   \n",
       "min       1.0   21.000000     479.690000       0.000000  100.000000   \n",
       "25%       1.0   25.000000   29475.680000       9.000000  435.750000   \n",
       "50%       1.0   27.000000   91739.470000      17.000000  647.500000   \n",
       "75%       1.0   29.000000  230058.290000      33.000000  837.750000   \n",
       "max       1.0   30.000000  832435.720000      50.000000  997.000000   \n",
       "\n",
       "       Holding_Period  \n",
       "count      374.000000  \n",
       "mean         9.248663  \n",
       "std          7.258142  \n",
       "min          1.000000  \n",
       "25%          3.000000  \n",
       "50%          7.000000  \n",
       "75%         15.000000  \n",
       "max         31.000000  "
      ]
     },
     "execution_count": 10,
     "metadata": {},
     "output_type": "execute_result"
    }
   ],
   "source": [
    "agef = df[((df.Age >= 21) & (df.Age <= 30)) &(df.Target == 1)]\n",
    "agef.describe()\n",
    "\n",
    "#In age group 21 - 30 years\n",
    "#4814 didnt opt for a loan\n",
    "#374 opted for a loan"
   ]
  },
  {
   "cell_type": "code",
   "execution_count": 11,
   "metadata": {},
   "outputs": [
    {
     "data": {
      "text/html": [
       "<div>\n",
       "<style scoped>\n",
       "    .dataframe tbody tr th:only-of-type {\n",
       "        vertical-align: middle;\n",
       "    }\n",
       "\n",
       "    .dataframe tbody tr th {\n",
       "        vertical-align: top;\n",
       "    }\n",
       "\n",
       "    .dataframe thead th {\n",
       "        text-align: right;\n",
       "    }\n",
       "</style>\n",
       "<table border=\"1\" class=\"dataframe\">\n",
       "  <thead>\n",
       "    <tr style=\"text-align: right;\">\n",
       "      <th></th>\n",
       "      <th>Target</th>\n",
       "      <th>Age</th>\n",
       "      <th>Balance</th>\n",
       "      <th>No_OF_CR_TXNS</th>\n",
       "      <th>SCR</th>\n",
       "      <th>Holding_Period</th>\n",
       "    </tr>\n",
       "  </thead>\n",
       "  <tbody>\n",
       "    <tr>\n",
       "      <th>count</th>\n",
       "      <td>546.0</td>\n",
       "      <td>546.000000</td>\n",
       "      <td>546.000000</td>\n",
       "      <td>546.000000</td>\n",
       "      <td>546.000000</td>\n",
       "      <td>546.000000</td>\n",
       "    </tr>\n",
       "    <tr>\n",
       "      <th>mean</th>\n",
       "      <td>1.0</td>\n",
       "      <td>35.362637</td>\n",
       "      <td>96288.259359</td>\n",
       "      <td>21.148352</td>\n",
       "      <td>621.765568</td>\n",
       "      <td>9.305861</td>\n",
       "    </tr>\n",
       "    <tr>\n",
       "      <th>std</th>\n",
       "      <td>0.0</td>\n",
       "      <td>2.780073</td>\n",
       "      <td>132466.594362</td>\n",
       "      <td>13.909734</td>\n",
       "      <td>260.924426</td>\n",
       "      <td>7.525117</td>\n",
       "    </tr>\n",
       "    <tr>\n",
       "      <th>min</th>\n",
       "      <td>1.0</td>\n",
       "      <td>31.000000</td>\n",
       "      <td>0.000000</td>\n",
       "      <td>0.000000</td>\n",
       "      <td>104.000000</td>\n",
       "      <td>1.000000</td>\n",
       "    </tr>\n",
       "    <tr>\n",
       "      <th>25%</th>\n",
       "      <td>1.0</td>\n",
       "      <td>33.000000</td>\n",
       "      <td>9934.340000</td>\n",
       "      <td>10.000000</td>\n",
       "      <td>404.250000</td>\n",
       "      <td>3.000000</td>\n",
       "    </tr>\n",
       "    <tr>\n",
       "      <th>50%</th>\n",
       "      <td>1.0</td>\n",
       "      <td>35.000000</td>\n",
       "      <td>43484.640000</td>\n",
       "      <td>18.000000</td>\n",
       "      <td>679.000000</td>\n",
       "      <td>8.000000</td>\n",
       "    </tr>\n",
       "    <tr>\n",
       "      <th>75%</th>\n",
       "      <td>1.0</td>\n",
       "      <td>37.750000</td>\n",
       "      <td>128239.542500</td>\n",
       "      <td>32.000000</td>\n",
       "      <td>854.000000</td>\n",
       "      <td>14.000000</td>\n",
       "    </tr>\n",
       "    <tr>\n",
       "      <th>max</th>\n",
       "      <td>1.0</td>\n",
       "      <td>40.000000</td>\n",
       "      <td>866862.830000</td>\n",
       "      <td>50.000000</td>\n",
       "      <td>997.000000</td>\n",
       "      <td>31.000000</td>\n",
       "    </tr>\n",
       "  </tbody>\n",
       "</table>\n",
       "</div>"
      ],
      "text/plain": [
       "       Target         Age        Balance  No_OF_CR_TXNS         SCR  \\\n",
       "count   546.0  546.000000     546.000000     546.000000  546.000000   \n",
       "mean      1.0   35.362637   96288.259359      21.148352  621.765568   \n",
       "std       0.0    2.780073  132466.594362      13.909734  260.924426   \n",
       "min       1.0   31.000000       0.000000       0.000000  104.000000   \n",
       "25%       1.0   33.000000    9934.340000      10.000000  404.250000   \n",
       "50%       1.0   35.000000   43484.640000      18.000000  679.000000   \n",
       "75%       1.0   37.750000  128239.542500      32.000000  854.000000   \n",
       "max       1.0   40.000000  866862.830000      50.000000  997.000000   \n",
       "\n",
       "       Holding_Period  \n",
       "count      546.000000  \n",
       "mean         9.305861  \n",
       "std          7.525117  \n",
       "min          1.000000  \n",
       "25%          3.000000  \n",
       "50%          8.000000  \n",
       "75%         14.000000  \n",
       "max         31.000000  "
      ]
     },
     "execution_count": 11,
     "metadata": {},
     "output_type": "execute_result"
    }
   ],
   "source": [
    "agef = df[((df.Age >= 31) & (df.Age <= 40)) &(df.Target == 1)]\n",
    "agef.describe()\n",
    "\n",
    "#In age group 31 - 40 years\n",
    "#5698 didnt opt for a loan\n",
    "#546 opted for a loan"
   ]
  },
  {
   "cell_type": "code",
   "execution_count": 33,
   "metadata": {},
   "outputs": [
    {
     "data": {
      "text/plain": [
       "<matplotlib.axes._subplots.AxesSubplot at 0x2b1b165b048>"
      ]
     },
     "execution_count": 33,
     "metadata": {},
     "output_type": "execute_result"
    },
    {
     "data": {
      "image/png": "[encoded data removed]",
      "text/plain": [
       "<Figure size 432x288 with 1 Axes>"
      ]
     },
     "metadata": {
      "needs_background": "light"
     },
     "output_type": "display_data"
    }
   ],
   "source": [
    "agef = df[((df.Age >= 41) & (df.Age <= 55)) &(df.Target == 1)]\n",
    "agef.describe()\n",
    "\n",
    "#In age group 41 - 55 years\n",
    "#7755 didnt opt for a loan\n",
    "#813 opted for a loan\n",
    "\n",
    "#sns.swarmplot(x=df.Target, y=df.Age, data=df)\n",
    "sns.violinplot(x=df.Target, y=df.Age, data=df,split=True,palette='Set1')"
   ]
  },
  {
   "cell_type": "code",
   "execution_count": 34,
   "metadata": {},
   "outputs": [
    {
     "name": "stderr",
     "output_type": "stream",
     "text": [
      "C:\\Anaconda\\lib\\site-packages\\seaborn\\axisgrid.py:723: UserWarning: Using the countplot function without specifying `order` is likely to produce an incorrect plot.\n",
      "  warnings.warn(warning)\n"
     ]
    },
    {
     "data": {
      "image/png": "[encoded data removed]",
      "text/plain": [
       "<Figure size 908.875x216 with 4 Axes>"
      ]
     },
     "metadata": {
      "needs_background": "light"
     },
     "output_type": "display_data"
    }
   ],
   "source": [
    "g = sns.FacetGrid(df, col='Occupation', hue=\"Gender\")\n",
    "plt.grid(True)\n",
    "g.map(sns.countplot, \"Gender\", alpha=1)\n",
    "g.add_legend()\n",
    "plt.grid((False))"
   ]
  },
  {
   "cell_type": "markdown",
   "metadata": {},
   "source": [
    "Inference: Males earn constant salary, Females are either self employed or SENP (Businesses)"
   ]
  },
  {
   "cell_type": "code",
   "execution_count": null,
   "metadata": {},
   "outputs": [],
   "source": []
  },
  {
   "cell_type": "code",
   "execution_count": null,
   "metadata": {},
   "outputs": [],
   "source": []
  }
 ],
 "metadata": {
  "kernelspec": {
   "display_name": "Python 3.7.1 64-bit",
   "language": "python",
   "name": "python37164bit02a606dbed62427ab1658e1de85525bb"
  },
  "language_info": {
   "codemirror_mode": {
    "name": "ipython",
    "version": 3
   },
   "file_extension": ".py",
   "mimetype": "text/x-python",
   "name": "python",
   "nbconvert_exporter": "python",
   "pygments_lexer": "ipython3",
   "version": "3.7.1"
  }
 },
 "nbformat": 4,
 "nbformat_minor": 4
}
