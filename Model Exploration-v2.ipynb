{
 "cells": [
  {
   "cell_type": "code",
   "execution_count": null,
   "metadata": {},
   "outputs": [],
   "source": []
  },
  {
   "cell_type": "code",
   "execution_count": 6,
   "metadata": {},
   "outputs": [],
   "source": [
    "import numpy as np\n",
    "import pandas as pd\n",
    "import matplotlib.pyplot as plt\n",
    "%matplotlib inline\n",
    "import seaborn as sns\n",
    "\n",
    "from sklearn.preprocessing import StandardScaler\n",
    "from sklearn.model_selection import train_test_split, cross_val_score, cross_validate\n",
    "from sklearn.tree import DecisionTreeClassifier, plot_tree\n",
    "from sklearn.metrics import accuracy_score, recall_score, f1_score, precision_score, roc_curve, auc, plot_confusion_matrix, plot_roc_curve\n",
    "from sklearn.svm import SVC\n",
    "from sklearn.neighbors import KNeighborsClassifier\n",
    "from sklearn.linear_model import LogisticRegression\n",
    "from sklearn.ensemble import RandomForestClassifier\n",
    "# from sklearn.inspection import plot_partial_dependence\n",
    "from imblearn.under_sampling import NearMiss\n",
    "from imblearn.over_sampling import SMOTE\n",
    "\n",
    "import xgboost as xgb"
   ]
  },
  {
   "cell_type": "code",
   "execution_count": 7,
   "metadata": {},
   "outputs": [],
   "source": [
    "data = pd.read_csv('Model_data.csv')\n",
    "data.Balance = data.Balance.astype('int32') #Truncating decimals"
   ]
  },
  {
   "cell_type": "code",
   "execution_count": 8,
   "metadata": {},
   "outputs": [],
   "source": [
    "data.drop(data.Gender[data.Gender== 'O'].index, axis = 0, inplace= True) # Removed 196 rows with `Gender` = 'O'"
   ]
  },
  {
   "cell_type": "code",
   "execution_count": 9,
   "metadata": {},
   "outputs": [],
   "source": [
    "# A class for pretty printing\n",
    "class color:\n",
    "    PURPLE = '\\033[95m'\n",
    "    CYAN = '\\033[96m'\n",
    "    DARKCYAN = '\\033[36m'\n",
    "    BLUE = '\\033[94m'\n",
    "    GREEN = '\\033[92m'\n",
    "    YELLOW = '\\033[93m'\n",
    "    RED = '\\033[91m'\n",
    "    BOLD = '\\033[1m'\n",
    "    UNDERLINE = '\\033[4m'\n",
    "    END = '\\033[0m'\n",
    "    \n",
    "# function for validation on test data   \n",
    "def classification_report(y_true, y_prediction, type_of_data='Enter Over/Under/Original sampled', type_of_classifier='ClassifierName'):\n",
    "    \"\"\"Print Classification report\"\"\"\n",
    "    \n",
    "    accuracy = accuracy_score(y_true, y_prediction)\n",
    "    precision = precision_score(y_true, y_prediction)\n",
    "    recall = recall_score(y_true, y_prediction)\n",
    "    f1 = f1_score(y_true, y_prediction)\n",
    "    \n",
    "    print('Classification Report on Testing Data:\\n'+ color.BOLD + type_of_data, 'data\\n'+color.END+color.RED+color.BOLD+type_of_classifier,'Classifier'+color.END+color.END)\n",
    "    print()\n",
    "    print('---------------------------------------')\n",
    "    print(color.BOLD + 'Recall: %s' %recall + color.END)\n",
    "    print('Precision: %s' %precision)\n",
    "    print('F1 score: %s' %f1)\n",
    "    print('Accuracy: %s' %accuracy)\n",
    "    print('---------------------------------------')\n",
    "    print()\n",
    "\n",
    "\n",
    "# A function for cross-validation report    \n",
    "def cross_val_report(classifier, train_data, train_label, cv=10, scoring=['recall','precision', 'f1','accuracy']):\n",
    "    \n",
    "    score = cross_validate(classifier, train_data, train_label, cv=cv, scoring= scoring)\n",
    "    recall = np.mean(score['test_recall'])\n",
    "    precision = np.mean(score['test_precision'])\n",
    "    f1 = np.mean(score['test_f1'])\n",
    "    accuracy= np.mean(score['test_accuracy'])\n",
    "    print('Cross Validation Report')\n",
    "    print(color.BOLD + 'Recall: %s' %recall + color.END)\n",
    "    print('Precision: %s' %precision)\n",
    "    print('F1: %s' %f1)\n",
    "    print('Accuracy: %s' %accuracy)\n",
    "    print()\n",
    "    print(\"*Mean values presented\")\n",
    "    print('---------------------------------------')"
   ]
  },
  {
   "cell_type": "code",
   "execution_count": 10,
   "metadata": {},
   "outputs": [
    {
     "data": {
      "text/html": [
       "<div>\n",
       "<style scoped>\n",
       "    .dataframe tbody tr th:only-of-type {\n",
       "        vertical-align: middle;\n",
       "    }\n",
       "\n",
       "    .dataframe tbody tr th {\n",
       "        vertical-align: top;\n",
       "    }\n",
       "\n",
       "    .dataframe thead th {\n",
       "        text-align: right;\n",
       "    }\n",
       "</style>\n",
       "<table border=\"1\" class=\"dataframe\">\n",
       "  <thead>\n",
       "    <tr style=\"text-align: right;\">\n",
       "      <th></th>\n",
       "      <th>Target</th>\n",
       "      <th>Age</th>\n",
       "      <th>Balance</th>\n",
       "      <th>No_OF_CR_TXNS</th>\n",
       "      <th>SCR</th>\n",
       "      <th>Holding_Period</th>\n",
       "      <th>Gender_M</th>\n",
       "      <th>Occupation_SAL</th>\n",
       "      <th>Occupation_SELF-EMP</th>\n",
       "      <th>Occupation_SENP</th>\n",
       "    </tr>\n",
       "  </thead>\n",
       "  <tbody>\n",
       "    <tr>\n",
       "      <th>0</th>\n",
       "      <td>0</td>\n",
       "      <td>41</td>\n",
       "      <td>91519</td>\n",
       "      <td>38</td>\n",
       "      <td>926</td>\n",
       "      <td>15</td>\n",
       "      <td>1</td>\n",
       "      <td>0</td>\n",
       "      <td>1</td>\n",
       "      <td>0</td>\n",
       "    </tr>\n",
       "    <tr>\n",
       "      <th>1</th>\n",
       "      <td>0</td>\n",
       "      <td>52</td>\n",
       "      <td>117288</td>\n",
       "      <td>17</td>\n",
       "      <td>768</td>\n",
       "      <td>13</td>\n",
       "      <td>1</td>\n",
       "      <td>1</td>\n",
       "      <td>0</td>\n",
       "      <td>0</td>\n",
       "    </tr>\n",
       "    <tr>\n",
       "      <th>2</th>\n",
       "      <td>0</td>\n",
       "      <td>31</td>\n",
       "      <td>259827</td>\n",
       "      <td>8</td>\n",
       "      <td>816</td>\n",
       "      <td>5</td>\n",
       "      <td>0</td>\n",
       "      <td>0</td>\n",
       "      <td>0</td>\n",
       "      <td>1</td>\n",
       "    </tr>\n",
       "    <tr>\n",
       "      <th>3</th>\n",
       "      <td>0</td>\n",
       "      <td>45</td>\n",
       "      <td>26677</td>\n",
       "      <td>14</td>\n",
       "      <td>353</td>\n",
       "      <td>18</td>\n",
       "      <td>0</td>\n",
       "      <td>0</td>\n",
       "      <td>0</td>\n",
       "      <td>0</td>\n",
       "    </tr>\n",
       "    <tr>\n",
       "      <th>4</th>\n",
       "      <td>0</td>\n",
       "      <td>39</td>\n",
       "      <td>43440</td>\n",
       "      <td>1</td>\n",
       "      <td>751</td>\n",
       "      <td>31</td>\n",
       "      <td>0</td>\n",
       "      <td>0</td>\n",
       "      <td>0</td>\n",
       "      <td>1</td>\n",
       "    </tr>\n",
       "  </tbody>\n",
       "</table>\n",
       "</div>"
      ],
      "text/plain": [
       "   Target  Age  Balance  No_OF_CR_TXNS  SCR  Holding_Period  Gender_M  \\\n",
       "0       0   41    91519             38  926              15         1   \n",
       "1       0   52   117288             17  768              13         1   \n",
       "2       0   31   259827              8  816               5         0   \n",
       "3       0   45    26677             14  353              18         0   \n",
       "4       0   39    43440              1  751              31         0   \n",
       "\n",
       "   Occupation_SAL  Occupation_SELF-EMP  Occupation_SENP  \n",
       "0               0                    1                0  \n",
       "1               1                    0                0  \n",
       "2               0                    0                1  \n",
       "3               0                    0                0  \n",
       "4               0                    0                1  "
      ]
     },
     "execution_count": 10,
     "metadata": {},
     "output_type": "execute_result"
    }
   ],
   "source": [
    "df = pd.get_dummies(data, columns=['Gender','Occupation'], drop_first = True)\n",
    "df.head()"
   ]
  },
  {
   "cell_type": "code",
   "execution_count": 11,
   "metadata": {},
   "outputs": [
    {
     "data": {
      "text/html": [
       "<div>\n",
       "<style scoped>\n",
       "    .dataframe tbody tr th:only-of-type {\n",
       "        vertical-align: middle;\n",
       "    }\n",
       "\n",
       "    .dataframe tbody tr th {\n",
       "        vertical-align: top;\n",
       "    }\n",
       "\n",
       "    .dataframe thead th {\n",
       "        text-align: right;\n",
       "    }\n",
       "</style>\n",
       "<table border=\"1\" class=\"dataframe\">\n",
       "  <thead>\n",
       "    <tr style=\"text-align: right;\">\n",
       "      <th></th>\n",
       "      <th>Target</th>\n",
       "      <th>Age</th>\n",
       "      <th>Gender</th>\n",
       "      <th>Balance</th>\n",
       "      <th>Occupation</th>\n",
       "      <th>No_OF_CR_TXNS</th>\n",
       "      <th>SCR</th>\n",
       "      <th>Holding_Period</th>\n",
       "    </tr>\n",
       "  </thead>\n",
       "  <tbody>\n",
       "    <tr>\n",
       "      <th>0</th>\n",
       "      <td>0</td>\n",
       "      <td>41</td>\n",
       "      <td>M</td>\n",
       "      <td>91519</td>\n",
       "      <td>SELF-EMP</td>\n",
       "      <td>38</td>\n",
       "      <td>926</td>\n",
       "      <td>15</td>\n",
       "    </tr>\n",
       "    <tr>\n",
       "      <th>1</th>\n",
       "      <td>0</td>\n",
       "      <td>52</td>\n",
       "      <td>M</td>\n",
       "      <td>117288</td>\n",
       "      <td>SAL</td>\n",
       "      <td>17</td>\n",
       "      <td>768</td>\n",
       "      <td>13</td>\n",
       "    </tr>\n",
       "    <tr>\n",
       "      <th>3</th>\n",
       "      <td>0</td>\n",
       "      <td>45</td>\n",
       "      <td>F</td>\n",
       "      <td>26677</td>\n",
       "      <td>PROF</td>\n",
       "      <td>14</td>\n",
       "      <td>353</td>\n",
       "      <td>18</td>\n",
       "    </tr>\n",
       "    <tr>\n",
       "      <th>5</th>\n",
       "      <td>0</td>\n",
       "      <td>45</td>\n",
       "      <td>M</td>\n",
       "      <td>403324</td>\n",
       "      <td>SENP</td>\n",
       "      <td>11</td>\n",
       "      <td>364</td>\n",
       "      <td>2</td>\n",
       "    </tr>\n",
       "    <tr>\n",
       "      <th>9</th>\n",
       "      <td>1</td>\n",
       "      <td>44</td>\n",
       "      <td>M</td>\n",
       "      <td>10791</td>\n",
       "      <td>SELF-EMP</td>\n",
       "      <td>17</td>\n",
       "      <td>678</td>\n",
       "      <td>3</td>\n",
       "    </tr>\n",
       "    <tr>\n",
       "      <th>...</th>\n",
       "      <td>...</td>\n",
       "      <td>...</td>\n",
       "      <td>...</td>\n",
       "      <td>...</td>\n",
       "      <td>...</td>\n",
       "      <td>...</td>\n",
       "      <td>...</td>\n",
       "      <td>...</td>\n",
       "    </tr>\n",
       "    <tr>\n",
       "      <th>19986</th>\n",
       "      <td>1</td>\n",
       "      <td>45</td>\n",
       "      <td>M</td>\n",
       "      <td>22461</td>\n",
       "      <td>SAL</td>\n",
       "      <td>40</td>\n",
       "      <td>785</td>\n",
       "      <td>9</td>\n",
       "    </tr>\n",
       "    <tr>\n",
       "      <th>19987</th>\n",
       "      <td>0</td>\n",
       "      <td>45</td>\n",
       "      <td>M</td>\n",
       "      <td>86989</td>\n",
       "      <td>SELF-EMP</td>\n",
       "      <td>9</td>\n",
       "      <td>260</td>\n",
       "      <td>21</td>\n",
       "    </tr>\n",
       "    <tr>\n",
       "      <th>19993</th>\n",
       "      <td>0</td>\n",
       "      <td>50</td>\n",
       "      <td>M</td>\n",
       "      <td>116826</td>\n",
       "      <td>SAL</td>\n",
       "      <td>4</td>\n",
       "      <td>876</td>\n",
       "      <td>22</td>\n",
       "    </tr>\n",
       "    <tr>\n",
       "      <th>19994</th>\n",
       "      <td>0</td>\n",
       "      <td>51</td>\n",
       "      <td>F</td>\n",
       "      <td>85937</td>\n",
       "      <td>PROF</td>\n",
       "      <td>0</td>\n",
       "      <td>495</td>\n",
       "      <td>14</td>\n",
       "    </tr>\n",
       "    <tr>\n",
       "      <th>19997</th>\n",
       "      <td>0</td>\n",
       "      <td>42</td>\n",
       "      <td>M</td>\n",
       "      <td>100642</td>\n",
       "      <td>SAL</td>\n",
       "      <td>4</td>\n",
       "      <td>263</td>\n",
       "      <td>1</td>\n",
       "    </tr>\n",
       "  </tbody>\n",
       "</table>\n",
       "<p>9783 rows × 8 columns</p>\n",
       "</div>"
      ],
      "text/plain": [
       "       Target  Age Gender  Balance Occupation  No_OF_CR_TXNS  SCR  \\\n",
       "0           0   41      M    91519   SELF-EMP             38  926   \n",
       "1           0   52      M   117288        SAL             17  768   \n",
       "3           0   45      F    26677       PROF             14  353   \n",
       "5           0   45      M   403324       SENP             11  364   \n",
       "9           1   44      M    10791   SELF-EMP             17  678   \n",
       "...       ...  ...    ...      ...        ...            ...  ...   \n",
       "19986       1   45      M    22461        SAL             40  785   \n",
       "19987       0   45      M    86989   SELF-EMP              9  260   \n",
       "19993       0   50      M   116826        SAL              4  876   \n",
       "19994       0   51      F    85937       PROF              0  495   \n",
       "19997       0   42      M   100642        SAL              4  263   \n",
       "\n",
       "       Holding_Period  \n",
       "0                  15  \n",
       "1                  13  \n",
       "3                  18  \n",
       "5                   2  \n",
       "9                   3  \n",
       "...               ...  \n",
       "19986               9  \n",
       "19987              21  \n",
       "19993              22  \n",
       "19994              14  \n",
       "19997               1  \n",
       "\n",
       "[9783 rows x 8 columns]"
      ]
     },
     "execution_count": 11,
     "metadata": {},
     "output_type": "execute_result"
    }
   ],
   "source": [
    "data.query('Age>40 | SCR>900')"
   ]
  },
  {
   "cell_type": "code",
   "execution_count": 12,
   "metadata": {},
   "outputs": [
    {
     "data": {
      "text/plain": [
       "(array([1228., 1744., 2872., 2104., 1872., 2188., 1724., 2088., 1580.,\n",
       "        2404.]),\n",
       " array([21. , 24.4, 27.8, 31.2, 34.6, 38. , 41.4, 44.8, 48.2, 51.6, 55. ]),\n",
       " <a list of 10 Patch objects>)"
      ]
     },
     "execution_count": 12,
     "metadata": {},
     "output_type": "execute_result"
    },
    {
     "data": {
      "image/png": "[encoded data removed]",
      "text/plain": [
       "<Figure size 432x288 with 1 Axes>"
      ]
     },
     "metadata": {
      "needs_background": "light"
     },
     "output_type": "display_data"
    }
   ],
   "source": [
    "plt.hist(data.Age)"
   ]
  },
  {
   "cell_type": "code",
   "execution_count": 13,
   "metadata": {},
   "outputs": [],
   "source": [
    "# Scale Age by zscore"
   ]
  },
  {
   "cell_type": "code",
   "execution_count": 14,
   "metadata": {},
   "outputs": [],
   "source": [
    "# A class for pretty printing\n",
    "class color:\n",
    "    PURPLE = '\\033[95m'\n",
    "    CYAN = '\\033[96m'\n",
    "    DARKCYAN = '\\033[36m'\n",
    "    BLUE = '\\033[94m'\n",
    "    GREEN = '\\033[92m'\n",
    "    YELLOW = '\\033[93m'\n",
    "    RED = '\\033[91m'\n",
    "    BOLD = '\\033[1m'\n",
    "    UNDERLINE = '\\033[4m'\n",
    "    END = '\\033[0m'\n",
    "    \n",
    "# function for validation on test data   \n",
    "def classification_report(y_true, y_prediction, type_of_data='Enter Over/Under/Original sampled', type_of_classifier='ClassifierName'):\n",
    "    \"\"\"Print Classification report\"\"\"\n",
    "    \n",
    "    accuracy = accuracy_score(y_true, y_prediction)\n",
    "    precision = precision_score(y_true, y_prediction)\n",
    "    recall = recall_score(y_true, y_prediction)\n",
    "    f1 = f1_score(y_true, y_prediction)\n",
    "    \n",
    "    print('Classification Report on Testing Data:\\n'+ color.BOLD + type_of_data, 'data\\n'+color.END+color.RED+color.BOLD+type_of_classifier,'Classifier'+color.END+color.END)\n",
    "    print()\n",
    "    print('---------------------------------------')\n",
    "    print(color.BOLD + 'Recall: %s' %recall + color.END)\n",
    "    print('Precision: %s' %precision)\n",
    "    print('F1 score: %s' %f1)\n",
    "    print('Accuracy: %s' %accuracy)\n",
    "    print('---------------------------------------')\n",
    "    print()\n",
    "\n",
    "\n",
    "# A function for cross-validation report    \n",
    "def cross_val_report(classifier, train_data, train_label, cv=10, scoring=['recall','precision', 'f1','accuracy']):\n",
    "    \n",
    "    score = cross_validate(classifier, train_data, train_label, cv=cv, scoring= scoring)\n",
    "    recall = np.mean(score['test_recall'])\n",
    "    precision = np.mean(score['test_precision'])\n",
    "    f1 = np.mean(score['test_f1'])\n",
    "    accuracy= np.mean(score['test_accuracy'])\n",
    "    print('Cross Validation Report')\n",
    "    print(color.BOLD + 'Recall: %s' %recall + color.END)\n",
    "    print('Precision: %s' %precision)\n",
    "    print('F1: %s' %f1)\n",
    "    print('Accuracy: %s' %accuracy)\n",
    "    print()\n",
    "    print(\"*Mean values presented\")\n",
    "    print('---------------------------------------')\n",
    "    \n",
    "    \n",
    "    \n",
    "def error_plot(predict_proba, target_label):\n",
    "    \"\"\"(predict_proba, y_test),\n",
    "    targetlabel- prob_of_prediction=1\n",
    "    center is best\n",
    "    left is when my model predicted a non loan prospect would take a loan\n",
    "    right is when my model misses a loan prospect(minimize this)\"\"\"\n",
    "    prob = predict_proba[:,1]\n",
    "    actual = y_test_orig\n",
    "    error = actual-prob # Label value- predicted prob of target=1\n",
    "    plt.hist(error)\n",
    "    plt.show()"
   ]
  },
  {
   "cell_type": "code",
   "execution_count": 15,
   "metadata": {},
   "outputs": [],
   "source": [
    "X = df.iloc[:,1:].to_numpy()\n",
    "y = df.iloc[:,0].to_numpy()\n",
    "\n",
    "X_train_orig, X_test_orig, y_train_orig, y_test_orig = train_test_split(X,y, shuffle= True, stratify=y)"
   ]
  },
  {
   "cell_type": "code",
   "execution_count": 16,
   "metadata": {},
   "outputs": [],
   "source": [
    "stdScaler = StandardScaler()\n",
    "X_train = stdScaler.fit_transform(X_train_orig)\n",
    "X_test = stdScaler.transform(X_test_orig)"
   ]
  },
  {
   "cell_type": "code",
   "execution_count": 17,
   "metadata": {},
   "outputs": [],
   "source": [
    "X_under_train, y_under_train = NearMiss().fit_resample(X_train_orig, y_train_orig)\n",
    "stdScalerU = StandardScaler()\n",
    "X_under_train = stdScalerU.fit_transform(X_under_train)\n",
    "X_under_test = stdScalerU.transform(X_test_orig)"
   ]
  },
  {
   "cell_type": "code",
   "execution_count": 18,
   "metadata": {},
   "outputs": [],
   "source": [
    "X_over_train, y_over_train = SMOTE().fit_resample(X_train_orig, y_train_orig)\n",
    "stdScalerO = StandardScaler()\n",
    "X_over_train = stdScalerO.fit_transform(X_over_train)\n",
    "X_over_test = stdScalerO.transform(X_test_orig)"
   ]
  },
  {
   "cell_type": "code",
   "execution_count": 19,
   "metadata": {},
   "outputs": [],
   "source": [
    "from sklearn.ensemble import ExtraTreesClassifier"
   ]
  },
  {
   "cell_type": "code",
   "execution_count": 20,
   "metadata": {},
   "outputs": [
    {
     "name": "stdout",
     "output_type": "stream",
     "text": [
      "Classification Report on Testing Data:\n",
      "\u001b[1mOriginal data\n",
      "\u001b[0m\u001b[91m\u001b[1metc Classifier\u001b[0m\u001b[0m\n",
      "\n",
      "---------------------------------------\n",
      "\u001b[1mRecall: 0.13348946135831383\u001b[0m\n",
      "Precision: 0.5876288659793815\n",
      "F1 score: 0.21755725190839698\n",
      "Accuracy: 0.9171884467784286\n",
      "---------------------------------------\n",
      "\n"
     ]
    },
    {
     "data": {
      "image/png": "[encoded data removed]",
      "text/plain": [
       "<Figure size 432x288 with 1 Axes>"
      ]
     },
     "metadata": {
      "needs_background": "light"
     },
     "output_type": "display_data"
    },
    {
     "data": {
      "image/png": "[encoded data removed]",
      "text/plain": [
       "<Figure size 432x288 with 1 Axes>"
      ]
     },
     "metadata": {
      "needs_background": "light"
     },
     "output_type": "display_data"
    },
    {
     "data": {
      "text/plain": [
       "<sklearn.metrics._plot.confusion_matrix.ConfusionMatrixDisplay at 0x19f1670be80>"
      ]
     },
     "execution_count": 20,
     "metadata": {},
     "output_type": "execute_result"
    },
    {
     "data": {
      "image/png": "[encoded data removed]",
      "text/plain": [
       "<Figure size 432x288 with 2 Axes>"
      ]
     },
     "metadata": {
      "needs_background": "light"
     },
     "output_type": "display_data"
    }
   ],
   "source": [
    "etc = ExtraTreesClassifier()\n",
    "etc.fit(X_train, y_train_orig)\n",
    "\n",
    "y_predict_etc= etc.predict(X_test)\n",
    "classification_report(y_test_orig, y_predict_etc, 'Original', 'etc')\n",
    "plot_roc_curve(etc, X_test, y_test_orig)\n",
    "plt.show()\n",
    "error_plot(etc.predict_proba(X_test), y_test_orig)\n",
    "plot_confusion_matrix(etc, X_test, y_test_orig, cmap = 'BuPu')\n",
    "# cross_val_report(knn, X_over_train, y_over_train)"
   ]
  },
  {
   "cell_type": "code",
   "execution_count": 21,
   "metadata": {},
   "outputs": [
    {
     "name": "stdout",
     "output_type": "stream",
     "text": [
      "Classification Report on Testing Data:\n",
      "\u001b[1mUndersampled data\n",
      "\u001b[0m\u001b[91m\u001b[1mKNN Classifier\u001b[0m\u001b[0m\n",
      "\n",
      "---------------------------------------\n",
      "\u001b[1mRecall: 0.03044496487119438\u001b[0m\n",
      "Precision: 0.6842105263157895\n",
      "F1 score: 0.05829596412556053\n",
      "Accuracy: 0.9151686527974147\n",
      "---------------------------------------\n",
      "\n"
     ]
    },
    {
     "data": {
      "image/png": "[encoded data removed]",
      "text/plain": [
       "<Figure size 432x288 with 1 Axes>"
      ]
     },
     "metadata": {
      "needs_background": "light"
     },
     "output_type": "display_data"
    },
    {
     "data": {
      "image/png": "[encoded data removed]",
      "text/plain": [
       "<Figure size 432x288 with 1 Axes>"
      ]
     },
     "metadata": {
      "needs_background": "light"
     },
     "output_type": "display_data"
    },
    {
     "data": {
      "text/plain": [
       "<sklearn.metrics._plot.confusion_matrix.ConfusionMatrixDisplay at 0x19f1679cba8>"
      ]
     },
     "execution_count": 21,
     "metadata": {},
     "output_type": "execute_result"
    },
    {
     "data": {
      "image/png": "[encoded data removed]",
      "text/plain": [
       "<Figure size 432x288 with 2 Axes>"
      ]
     },
     "metadata": {
      "needs_background": "light"
     },
     "output_type": "display_data"
    }
   ],
   "source": [
    "etcU = ExtraTreesClassifier()\n",
    "etcU.fit(X_train, y_train_orig)\n",
    "\n",
    "etcU.fit(X_under_train, y_under_train)\n",
    "y_predict_etcU= etc.predict(X_under_test)\n",
    "classification_report(y_test_orig, y_predict_etcU, 'Undersampled', 'KNN')\n",
    "plot_roc_curve(etcU, X_under_test, y_test_orig)\n",
    "plt.show()\n",
    "error_plot(etc.predict_proba(X_under_test), y_test_orig)\n",
    "plot_confusion_matrix(etcU, X_under_test, y_test_orig, cmap = 'BuPu')\n",
    "# cross_val_report(knn, X_over_train, y_over_train)"
   ]
  },
  {
   "cell_type": "code",
   "execution_count": 22,
   "metadata": {},
   "outputs": [
    {
     "name": "stdout",
     "output_type": "stream",
     "text": [
      "Classification Report on Testing Data:\n",
      "\u001b[1mOversampled data\n",
      "\u001b[0m\u001b[91m\u001b[1metcO Classifier\u001b[0m\u001b[0m\n",
      "\n",
      "---------------------------------------\n",
      "\u001b[1mRecall: 0.4449648711943794\u001b[0m\n",
      "Precision: 0.2543507362784471\n",
      "F1 score: 0.32367972742759793\n",
      "Accuracy: 0.8396283579074935\n",
      "---------------------------------------\n",
      "\n"
     ]
    },
    {
     "data": {
      "image/png": "[encoded data removed]",
      "text/plain": [
       "<Figure size 432x288 with 1 Axes>"
      ]
     },
     "metadata": {
      "needs_background": "light"
     },
     "output_type": "display_data"
    },
    {
     "data": {
      "image/png": "[encoded data removed]",
      "text/plain": [
       "<Figure size 432x288 with 1 Axes>"
      ]
     },
     "metadata": {
      "needs_background": "light"
     },
     "output_type": "display_data"
    },
    {
     "data": {
      "text/plain": [
       "<sklearn.metrics._plot.confusion_matrix.ConfusionMatrixDisplay at 0x19f166e8668>"
      ]
     },
     "execution_count": 22,
     "metadata": {},
     "output_type": "execute_result"
    },
    {
     "data": {
      "image/png": "[encoded data removed]",
      "text/plain": [
       "<Figure size 432x288 with 2 Axes>"
      ]
     },
     "metadata": {
      "needs_background": "light"
     },
     "output_type": "display_data"
    }
   ],
   "source": [
    "\n",
    "etcO = ExtraTreesClassifier()\n",
    "\n",
    "etcO.fit(X_over_train, y_over_train)\n",
    "y_predict_knnO= etcO.predict(X_over_test)\n",
    "classification_report(y_test_orig, y_predict_knnO, 'Oversampled', 'etcO')\n",
    "plot_roc_curve(etcO, X_over_test, y_test_orig)\n",
    "plt.show()\n",
    "error_plot(etcO.predict_proba(X_over_test), y_test_orig)\n",
    "plot_confusion_matrix(etcO, X_over_test, y_test_orig, cmap = 'BuPu')\n",
    "# cross_val_report(knn, X_over_train, y_over_train)"
   ]
  },
  {
   "cell_type": "code",
   "execution_count": 23,
   "metadata": {},
   "outputs": [],
   "source": [
    "import lime\n",
    "import lime.lime_tabular"
   ]
  },
  {
   "cell_type": "code",
   "execution_count": 24,
   "metadata": {},
   "outputs": [
    {
     "ename": "TypeError",
     "evalue": "'numpy.int64' object is not callable",
     "output_type": "error",
     "traceback": [
      "\u001b[1;31m---------------------------------------------------------------------------\u001b[0m",
      "\u001b[1;31mTypeError\u001b[0m                                 Traceback (most recent call last)",
      "\u001b[1;32m<ipython-input-24-7abb46a58e10>\u001b[0m in \u001b[0;36m<module>\u001b[1;34m\u001b[0m\n\u001b[0;32m      1\u001b[0m \u001b[0mexplainer\u001b[0m \u001b[1;33m=\u001b[0m \u001b[0mlime\u001b[0m\u001b[1;33m.\u001b[0m\u001b[0mlime_tabular\u001b[0m\u001b[1;33m.\u001b[0m\u001b[0mLimeTabularExplainer\u001b[0m\u001b[1;33m(\u001b[0m\u001b[0mX_over_train\u001b[0m\u001b[1;33m,\u001b[0m \u001b[0mtraining_labels\u001b[0m\u001b[1;33m=\u001b[0m \u001b[0my_over_train\u001b[0m\u001b[1;33m)\u001b[0m\u001b[1;33m\u001b[0m\u001b[1;33m\u001b[0m\u001b[0m\n\u001b[1;32m----> 2\u001b[1;33m \u001b[0mexp\u001b[0m \u001b[1;33m=\u001b[0m \u001b[0mexplainer\u001b[0m\u001b[1;33m.\u001b[0m\u001b[0mexplain_instance\u001b[0m\u001b[1;33m(\u001b[0m\u001b[0mX_over_test\u001b[0m\u001b[1;33m[\u001b[0m\u001b[1;36m1\u001b[0m\u001b[1;33m]\u001b[0m\u001b[1;33m,\u001b[0m\u001b[0my_predict_knnO\u001b[0m\u001b[1;33m[\u001b[0m\u001b[1;36m1\u001b[0m\u001b[1;33m]\u001b[0m\u001b[1;33m)\u001b[0m\u001b[1;33m\u001b[0m\u001b[1;33m\u001b[0m\u001b[0m\n\u001b[0m",
      "\u001b[1;32mC:\\Anaconda\\lib\\site-packages\\lime\\lime_tabular.py\u001b[0m in \u001b[0;36mexplain_instance\u001b[1;34m(self, data_row, predict_fn, labels, top_labels, num_features, num_samples, distance_metric, model_regressor)\u001b[0m\n\u001b[0;32m    353\u001b[0m         ).ravel()\n\u001b[0;32m    354\u001b[0m \u001b[1;33m\u001b[0m\u001b[0m\n\u001b[1;32m--> 355\u001b[1;33m         \u001b[0myss\u001b[0m \u001b[1;33m=\u001b[0m \u001b[0mpredict_fn\u001b[0m\u001b[1;33m(\u001b[0m\u001b[0minverse\u001b[0m\u001b[1;33m)\u001b[0m\u001b[1;33m\u001b[0m\u001b[1;33m\u001b[0m\u001b[0m\n\u001b[0m\u001b[0;32m    356\u001b[0m \u001b[1;33m\u001b[0m\u001b[0m\n\u001b[0;32m    357\u001b[0m         \u001b[1;31m# for classification, the model needs to provide a list of tuples - classes\u001b[0m\u001b[1;33m\u001b[0m\u001b[1;33m\u001b[0m\u001b[1;33m\u001b[0m\u001b[0m\n",
      "\u001b[1;31mTypeError\u001b[0m: 'numpy.int64' object is not callable"
     ]
    }
   ],
   "source": [
    "explainer = lime.lime_tabular.LimeTabularExplainer(X_over_train, training_labels= y_over_train)\n",
    "exp = explainer.explain_instance(X_over_test[1],y_predict_knnO[1])"
   ]
  },
  {
   "cell_type": "code",
   "execution_count": null,
   "metadata": {},
   "outputs": [],
   "source": [
    "\n",
    "etcO = ExtraTreesClassifier()\n",
    "\n",
    "etcO.fit(X_over_train, y_over_train)\n",
    "y_predict_knnO= etcO.predict(X_over_test)\n",
    "classification_report(y_test_orig, y_predict_knnO, 'Oversampled', 'etcO')\n",
    "plot_roc_curve(etcO, X_over_test, y_test_orig)\n",
    "plt.show()\n",
    "error_plot(etcO.predict_proba(X_over_test), y_test_orig)\n",
    "plot_confusion_matrix(etcO, X_over_test, y_test_orig, cmap = 'BuPu')\n",
    "# cross_val_report(knn, X_over_train, y_over_train)"
   ]
  },
  {
   "cell_type": "code",
   "execution_count": null,
   "metadata": {},
   "outputs": [],
   "source": [
    "y_predict_knnO[1]"
   ]
  },
  {
   "cell_type": "code",
   "execution_count": null,
   "metadata": {},
   "outputs": [],
   "source": [
    "# print(\"Original:     \"+color.BOLD+ \"X_original,y_original\"+color.END+\"::  X_train_orig, X_test_orig, y_train_orig, y_test_orig\")\n",
    "# print()\n",
    "# print(\"Undersampled:\"+color.BOLD+ \" X_under, y_under\"+color.END+\"     ::  X_under_train, y_under_train\")\n",
    "# print()\n",
    "# print(\"Oversampled:\"+color.BOLD+ \"  X_over, y_over\"+color.END+\"       ::  X_over_train, y_over_train\")"
   ]
  },
  {
   "cell_type": "code",
   "execution_count": null,
   "metadata": {},
   "outputs": [],
   "source": [
    "knn = KNeighborsClassifier(n_neighbors = 5)\n",
    "knn.fit(X_train, y_train_orig)\n",
    "y_predict_knn= knn.predict(X_test)\n",
    "classification_report(y_test_orig, y_predict_knn, 'Original', 'KNN')\n",
    "plot_roc_curve(knn, X_test, y_test_orig)\n",
    "plt.show()\n",
    "error_plot(knn.predict_proba(X_test), y_test_orig)\n",
    "plot_confusion_matrix(knn, X_test, y_test_orig, cmap = 'BuPu')\n",
    "# cross_val_report(knn, X_over_train, y_over_train)"
   ]
  },
  {
   "cell_type": "code",
   "execution_count": null,
   "metadata": {},
   "outputs": [],
   "source": [
    "knnU = KNeighborsClassifier(n_neighbors = 5)\n",
    "knnU.fit(X_under_train, y_under_train)\n",
    "y_predict_knnU= knnU.predict(X_under_test)\n",
    "classification_report(y_test_orig, y_predict_knnU, 'Undersampled', 'KNN')\n",
    "plot_roc_curve(knnU, X_under_test, y_test_orig)\n",
    "plt.show()\n",
    "error_plot(knnU.predict_proba(X_under_test), y_test_orig)\n",
    "plot_confusion_matrix(knnU, X_under_test, y_test_orig, cmap = 'BuPu')\n",
    "# cross_val_report(knn, X_over_train, y_over_train)"
   ]
  },
  {
   "cell_type": "code",
   "execution_count": null,
   "metadata": {},
   "outputs": [],
   "source": [
    "knnO = KNeighborsClassifier(n_neighbors = 2)\n",
    "knnO.fit(X_over_train, y_over_train)\n",
    "y_predict_knnO= knnO.predict(X_over_test)\n",
    "classification_report(y_test_orig, y_predict_knnO, 'Oversampled', 'KNN')\n",
    "plot_roc_curve(knnO, X_over_test, y_test_orig)\n",
    "plt.show()\n",
    "error_plot(knnO.predict_proba(X_over_test), y_test_orig)\n",
    "plot_confusion_matrix(knnO, X_over_test, y_test_orig, cmap = 'BuPu')\n",
    "# cross_val_report(knn, X_over_train, y_over_train)"
   ]
  },
  {
   "cell_type": "code",
   "execution_count": null,
   "metadata": {},
   "outputs": [],
   "source": [
    "knnO = KNeighborsClassifier(n_neighbors = 5)\n",
    "knnO.fit(X_over_train, y_over_train)\n",
    "y_predict_knnO= knnO.predict(X_over_test)\n",
    "classification_report(y_test_orig, y_predict_knnO, 'Oversampled', 'KNN')\n",
    "plot_roc_curve(knnO, X_over_test, y_test_orig)\n",
    "plt.show()\n",
    "error_plot(knnO.predict_proba(X_over_test), y_test_orig)\n",
    "plot_confusion_matrix(knnO, X_over_test, y_test_orig, cmap = 'BuPu')\n",
    "# cross_val_report(knn, X_over_train, y_over_train)"
   ]
  },
  {
   "cell_type": "markdown",
   "metadata": {},
   "source": [
    "----\n",
    "----"
   ]
  },
  {
   "cell_type": "code",
   "execution_count": null,
   "metadata": {},
   "outputs": [],
   "source": [
    "dt = DecisionTreeClassifier()\n",
    "dt.fit(X_train, y_train_orig)\n",
    "y_predict_dt= dt.predict(X_test)\n",
    "classification_report(y_test_orig, y_predict_dt, 'Original', 'Decision Tree')\n",
    "plot_roc_curve(dt, X_test, y_test_orig)\n",
    "plt.show()\n",
    "error_plot(dt.predict_proba(X_test), y_test_orig)\n",
    "plot_confusion_matrix(dt, X_test, y_test_orig, cmap = 'BuPu')\n",
    "plt.show()\n",
    "(pd.Series(dt.feature_importances_, index=df.iloc[:,1:].columns)\n",
    "   .nlargest(8)\n",
    "   .plot(kind='barh'))\n",
    "plt.show()"
   ]
  },
  {
   "cell_type": "code",
   "execution_count": null,
   "metadata": {},
   "outputs": [],
   "source": [
    "data[data.Target ==0].shape"
   ]
  },
  {
   "cell_type": "code",
   "execution_count": null,
   "metadata": {},
   "outputs": [],
   "source": [
    "dtU = DecisionTreeClassifier(max_depth =3)\n",
    "dtU.fit(X_under_train, y_under_train)\n",
    "y_predict_dtU= dtU.predict(X_under_test)\n",
    "classification_report(y_test_orig, y_predict_dtU, 'Undersampled', 'Decision Tree')\n",
    "plot_roc_curve(dtU, X_under_test, y_test_orig)\n",
    "plt.show()\n",
    "error_plot(dtU.predict_proba(X_under_test), y_test_orig)\n",
    "plot_confusion_matrix(dtU, X_under_test, y_test_orig, cmap = 'BuPu')\n",
    "plt.show()\n",
    "(pd.Series(dtU.feature_importances_, index=df.iloc[:,1:].columns)\n",
    "   .nlargest(8)\n",
    "   .plot(kind='barh'))\n",
    "plt.show()"
   ]
  },
  {
   "cell_type": "code",
   "execution_count": null,
   "metadata": {},
   "outputs": [],
   "source": [
    "dtO = DecisionTreeClassifier(max_depth = 6)\n",
    "dtO.fit(X_over_train, y_over_train)\n",
    "y_predict_dtO= dtO.predict(X_over_test)\n",
    "classification_report(y_test_orig, y_predict_dtO, 'Oversampled', 'Decision Tree')\n",
    "plot_roc_curve(dtO, X_over_test, y_test_orig)\n",
    "plt.show()\n",
    "error_plot(dtO.predict_proba(X_over_test), y_test_orig)\n",
    "plot_confusion_matrix(dtO, X_over_test, y_test_orig, cmap = 'BuPu')\n",
    "# cross_val_report(knn, X_over_train, y_over_train)\n",
    "plt.show()\n",
    "(pd.Series(dtO.feature_importances_, index=df.iloc[:,1:].columns)\n",
    "   .nlargest(8)\n",
    "   .plot(kind='barh'))\n",
    "plt.show()"
   ]
  },
  {
   "cell_type": "markdown",
   "metadata": {},
   "source": [
    "___\n",
    "____"
   ]
  },
  {
   "cell_type": "code",
   "execution_count": null,
   "metadata": {},
   "outputs": [],
   "source": [
    "lr = LogisticRegression()\n",
    "lr.fit(X_train, y_train_orig)\n",
    "y_predict_lr= lr.predict(X_test)\n",
    "classification_report(y_test_orig, y_predict_lr, 'Original', 'Logistic Regression')\n",
    "plot_roc_curve(lr, X_test, y_test_orig)\n",
    "plt.show()\n",
    "error_plot(lr.predict_proba(X_test), y_test_orig)\n",
    "plot_confusion_matrix(lr, X_test, y_test_orig, cmap = 'BuPu')"
   ]
  },
  {
   "cell_type": "code",
   "execution_count": null,
   "metadata": {},
   "outputs": [],
   "source": [
    "lrU = LogisticRegression()\n",
    "lrU.fit(X_under_train, y_under_train)\n",
    "y_predict_lrU= lrU.predict(X_under_test)\n",
    "classification_report(y_test_orig, y_predict_lrU, 'Undersampled', 'Logistic Regression')\n",
    "plot_roc_curve(lrU, X_under_test, y_test_orig)\n",
    "plt.show()\n",
    "error_plot(lrU.predict_proba(X_under_test), y_test_orig)\n",
    "plot_confusion_matrix(lrU, X_under_test, y_test_orig, cmap = 'BuPu')\n"
   ]
  },
  {
   "cell_type": "code",
   "execution_count": null,
   "metadata": {},
   "outputs": [],
   "source": [
    "print(df.iloc[:,1:].columns)\n",
    "plt.scatter(x= np.arange(9),y = lrU.coef_)"
   ]
  },
  {
   "cell_type": "markdown",
   "metadata": {},
   "source": [
    "z= c1*Age + c2*Balance + c3*No._tran +..  z = 10000\n",
    "\n",
    "y = 1/(1+ e^(-z))"
   ]
  },
  {
   "cell_type": "code",
   "execution_count": null,
   "metadata": {},
   "outputs": [],
   "source": [
    "lrO = LogisticRegression()\n",
    "lrO.fit(X_over_train, y_over_train)\n",
    "y_predict_lrO= lrO.predict(X_over_test)\n",
    "classification_report(y_test_orig, y_predict_lrO, 'Oversampled', 'Logistic Regression')\n",
    "plot_roc_curve(lrO, X_over_test, y_test_orig)\n",
    "plt.show()\n",
    "error_plot(lrO.predict_proba(X_over_test), y_test_orig)\n",
    "plot_confusion_matrix(lrO, X_over_test, y_test_orig, cmap = 'BuPu')\n",
    "plt.show()"
   ]
  },
  {
   "cell_type": "code",
   "execution_count": null,
   "metadata": {},
   "outputs": [],
   "source": [
    "print(df.iloc[:,1:].columns)\n",
    "plt.scatter(x= np.arange(9),y = lrO.coef_)"
   ]
  },
  {
   "cell_type": "markdown",
   "metadata": {},
   "source": [
    "-----\n",
    "-----"
   ]
  },
  {
   "cell_type": "code",
   "execution_count": null,
   "metadata": {},
   "outputs": [],
   "source": [
    "svm = SVC(probability = True)\n",
    "svm.fit(X_train, y_train_orig)\n",
    "y_predict_svm= svm.predict(X_test)\n",
    "classification_report(y_test_orig, y_predict_svm, 'Original', 'SVM')\n",
    "plot_roc_curve(svm, X_test, y_test_orig)\n",
    "plt.show()\n",
    "error_plot(svm.predict_proba(X_test), y_test_orig)\n",
    "plot_confusion_matrix(svm, X_test, y_test_orig, cmap = 'BuPu')"
   ]
  },
  {
   "cell_type": "code",
   "execution_count": null,
   "metadata": {},
   "outputs": [],
   "source": [
    "svmU = SVC( probability = True)\n",
    "svmU.fit(X_under_train, y_under_train)\n",
    "y_predict_svmU= svmU.predict(X_under_test)\n",
    "classification_report(y_test_orig, y_predict_svmU, 'Undersampled', 'SVM')\n",
    "plot_roc_curve(svmU, X_under_test, y_test_orig)\n",
    "plt.show()\n",
    "error_plot(svmU.predict_proba(X_under_test), y_test_orig)\n",
    "plot_confusion_matrix(svmU, X_under_test, y_test_orig, cmap = 'BuPu')\n",
    "plt.show()"
   ]
  },
  {
   "cell_type": "code",
   "execution_count": null,
   "metadata": {},
   "outputs": [],
   "source": [
    "svmO = SVC(kernel = 'sigmoid', probability = True)\n",
    "svmO.fit(X_over_train, y_over_train)\n",
    "y_predict_svmO= svmO.predict(X_over_test)\n",
    "classification_report(y_test_orig, y_predict_svmO, 'Oversampled', 'SVM')\n",
    "plot_roc_curve(svmO, X_over_test, y_test_orig)\n",
    "plt.show()\n",
    "error_plot(svmO.predict_proba(X_over_test), y_test_orig)\n",
    "plot_confusion_matrix(svmO, X_over_test, y_test_orig, cmap = 'BuPu')\n",
    "plt.show()"
   ]
  },
  {
   "cell_type": "markdown",
   "metadata": {},
   "source": [
    "-------\n",
    "-------"
   ]
  },
  {
   "cell_type": "code",
   "execution_count": 27,
   "metadata": {},
   "outputs": [
    {
     "name": "stdout",
     "output_type": "stream",
     "text": [
      "Classification Report on Testing Data:\n",
      "\u001b[1mOriginal data\n",
      "\u001b[0m\u001b[91m\u001b[1mRandom Forest Classifier\u001b[0m\u001b[0m\n",
      "\n",
      "---------------------------------------\n",
      "\u001b[1mRecall: 0.02810304449648712\u001b[0m\n",
      "Precision: 0.75\n",
      "F1 score: 0.05417607223476298\n",
      "Accuracy: 0.9153706321955161\n",
      "---------------------------------------\n",
      "\n"
     ]
    },
    {
     "data": {
      "image/png": "[encoded data removed]",
      "text/plain": [
       "<Figure size 432x288 with 1 Axes>"
      ]
     },
     "metadata": {
      "needs_background": "light"
     },
     "output_type": "display_data"
    },
    {
     "data": {
      "image/png": "[encoded data removed]",
      "text/plain": [
       "<Figure size 432x288 with 1 Axes>"
      ]
     },
     "metadata": {
      "needs_background": "light"
     },
     "output_type": "display_data"
    },
    {
     "data": {
      "image/png": "[encoded data removed]",
      "text/plain": [
       "<Figure size 432x288 with 2 Axes>"
      ]
     },
     "metadata": {
      "needs_background": "light"
     },
     "output_type": "display_data"
    },
    {
     "data": {
      "image/png": "[encoded data removed]",
      "text/plain": [
       "<Figure size 432x288 with 1 Axes>"
      ]
     },
     "metadata": {
      "needs_background": "light"
     },
     "output_type": "display_data"
    }
   ],
   "source": [
    "from sklearn.ensemble import RandomForestClassifier\n",
    "rf = RandomForestClassifier(max_depth = 5, n_estimators = 4)\n",
    "rf.fit(X_train, y_train_orig)\n",
    "y_predict_rf= rf.predict(X_test)\n",
    "classification_report(y_test_orig, y_predict_rf, 'Original', 'Random Forest')\n",
    "plot_roc_curve(rf, X_test, y_test_orig)\n",
    "plt.show()\n",
    "error_plot(rf.predict_proba(X_test), y_test_orig)\n",
    "plot_confusion_matrix(rf, X_test, y_test_orig, cmap = 'BuPu')\n",
    "plt.show()\n",
    "(pd.Series(rf.feature_importances_, index=df.iloc[:,1:].columns)\n",
    "   .nlargest(8)\n",
    "   .plot(kind='barh'))\n",
    "plt.show()"
   ]
  },
  {
   "cell_type": "code",
   "execution_count": 28,
   "metadata": {},
   "outputs": [
    {
     "name": "stdout",
     "output_type": "stream",
     "text": [
      "Classification Report on Testing Data:\n",
      "\u001b[1mUndersampled data\n",
      "\u001b[0m\u001b[91m\u001b[1mRandom Forest Classifier\u001b[0m\u001b[0m\n",
      "\n",
      "---------------------------------------\n",
      "\u001b[1mRecall: 0.810304449648712\u001b[0m\n",
      "Precision: 0.10125841381328651\n",
      "F1 score: 0.18002081165452655\n",
      "Accuracy: 0.3633609371844072\n",
      "---------------------------------------\n",
      "\n"
     ]
    },
    {
     "data": {
      "image/png": "[encoded data removed]",
      "text/plain": [
       "<Figure size 432x288 with 1 Axes>"
      ]
     },
     "metadata": {
      "needs_background": "light"
     },
     "output_type": "display_data"
    },
    {
     "data": {
      "image/png": "[encoded data removed]",
      "text/plain": [
       "<Figure size 432x288 with 1 Axes>"
      ]
     },
     "metadata": {
      "needs_background": "light"
     },
     "output_type": "display_data"
    },
    {
     "data": {
      "image/png": "[encoded data removed]",
      "text/plain": [
       "<Figure size 432x288 with 2 Axes>"
      ]
     },
     "metadata": {
      "needs_background": "light"
     },
     "output_type": "display_data"
    },
    {
     "data": {
      "image/png": "[encoded data removed]",
      "text/plain": [
       "<Figure size 432x288 with 1 Axes>"
      ]
     },
     "metadata": {
      "needs_background": "light"
     },
     "output_type": "display_data"
    }
   ],
   "source": [
    "rfU = RandomForestClassifier()\n",
    "rfU.fit(X_under_train, y_under_train)\n",
    "y_predict_rfU= rfU.predict(X_under_test)\n",
    "classification_report(y_test_orig, y_predict_rfU, 'Undersampled', 'Random Forest')\n",
    "plot_roc_curve(rfU, X_under_test, y_test_orig)\n",
    "plt.show()\n",
    "error_plot(rfU.predict_proba(X_under_test), y_test_orig)\n",
    "plot_confusion_matrix(rfU, X_under_test, y_test_orig, cmap = 'BuPu')\n",
    "plt.show()\n",
    "(pd.Series(rfU.feature_importances_, index=df.iloc[:,1:].columns)\n",
    "   .nlargest(8)\n",
    "   .plot(kind='barh'))\n",
    "plt.show()"
   ]
  },
  {
   "cell_type": "code",
   "execution_count": 29,
   "metadata": {},
   "outputs": [
    {
     "name": "stdout",
     "output_type": "stream",
     "text": [
      "Classification Report on Testing Data:\n",
      "\u001b[1mOversampled data\n",
      "\u001b[0m\u001b[91m\u001b[1mRandom Forest Classifier\u001b[0m\u001b[0m\n",
      "\n",
      "---------------------------------------\n",
      "\u001b[1mRecall: 0.44730679156908665\u001b[0m\n",
      "Precision: 0.26454293628808867\n",
      "F1 score: 0.33246301131418626\n",
      "Accuracy: 0.845081801656231\n",
      "---------------------------------------\n",
      "\n"
     ]
    },
    {
     "data": {
      "image/png": "[encoded data removed]",
      "text/plain": [
       "<Figure size 432x288 with 1 Axes>"
      ]
     },
     "metadata": {
      "needs_background": "light"
     },
     "output_type": "display_data"
    },
    {
     "data": {
      "image/png": "[encoded data removed]",
      "text/plain": [
       "<Figure size 432x288 with 1 Axes>"
      ]
     },
     "metadata": {
      "needs_background": "light"
     },
     "output_type": "display_data"
    },
    {
     "data": {
      "image/png": "[encoded data removed]",
      "text/plain": [
       "<Figure size 432x288 with 2 Axes>"
      ]
     },
     "metadata": {
      "needs_background": "light"
     },
     "output_type": "display_data"
    },
    {
     "data": {
      "image/png": "[encoded data removed]",
      "text/plain": [
       "<Figure size 432x288 with 1 Axes>"
      ]
     },
     "metadata": {
      "needs_background": "light"
     },
     "output_type": "display_data"
    }
   ],
   "source": [
    "rfO = RandomForestClassifier()\n",
    "rfO.fit(X_over_train, y_over_train)\n",
    "y_predict_rfO= rfO.predict(X_over_test)\n",
    "classification_report(y_test_orig, y_predict_rfO, 'Oversampled', 'Random Forest')\n",
    "plot_roc_curve(rfO, X_over_test, y_test_orig)\n",
    "plt.show()\n",
    "error_plot(rfO.predict_proba(X_over_test), y_test_orig)\n",
    "plot_confusion_matrix(rfO, X_over_test, y_test_orig, cmap = 'BuPu')\n",
    "\n",
    "plt.show()\n",
    "(pd.Series(rfO.feature_importances_, index=df.iloc[:,1:].columns)\n",
    "   .nlargest(8)\n",
    "   .plot(kind='barh'))\n",
    "plt.show()"
   ]
  },
  {
   "cell_type": "markdown",
   "metadata": {},
   "source": [
    "-------\n",
    "----------"
   ]
  },
  {
   "cell_type": "code",
   "execution_count": null,
   "metadata": {},
   "outputs": [],
   "source": [
    "from sklearn.cluster import KMeans\n",
    "from sklearn.metrics import confusion_matrix\n",
    "from sklearn.feature_selection import RFE"
   ]
  },
  {
   "cell_type": "code",
   "execution_count": null,
   "metadata": {},
   "outputs": [],
   "source": [
    "kmeans = KMeans(n_clusters=2)\n",
    "kmeans.fit(X_train, y_train_orig)\n",
    "# confusion_matrix(y_train_orig, kmeans.labels_)\n",
    "confusion_matrix(y_test_orig, kmeans.predict(X_test_orig))"
   ]
  },
  {
   "cell_type": "code",
   "execution_count": null,
   "metadata": {},
   "outputs": [],
   "source": [
    "(kmeans.labels_ == y_train_orig).sum()"
   ]
  },
  {
   "cell_type": "code",
   "execution_count": null,
   "metadata": {},
   "outputs": [],
   "source": [
    "# confusion_matrix(y_train_orig, kmeans.labels_)"
   ]
  },
  {
   "cell_type": "code",
   "execution_count": null,
   "metadata": {},
   "outputs": [],
   "source": [
    "kmeansU = KMeans(n_clusters=2)\n",
    "kmeansU.fit(X_under_train, y_under_train)\n",
    "# confusion_matrix(y_under_train, kmeansU.labels_)\n",
    "confusion_matrix(y_test_orig, kmeansU.predict(X_under_test))"
   ]
  },
  {
   "cell_type": "code",
   "execution_count": null,
   "metadata": {},
   "outputs": [],
   "source": [
    "kmeansO = KMeans(n_clusters=2)\n",
    "kmeansO.fit(X_over_train, y_over_train)\n",
    "print(confusion_matrix(y_over_train, kmeansO.labels_), end = ' Training Data\\n\\n')\n",
    "kmeansO.transform(X_over_test)\n",
    "print(confusion_matrix(y_test_orig, kmeansO.predict(X_over_test)), end = ' Testing Data\\n')"
   ]
  },
  {
   "cell_type": "code",
   "execution_count": null,
   "metadata": {},
   "outputs": [],
   "source": [
    "df.iloc[:,1:]\n",
    "# df.iloc[:,0]"
   ]
  },
  {
   "cell_type": "code",
   "execution_count": null,
   "metadata": {},
   "outputs": [],
   "source": [
    "from sklearn.cluster import DBSCAN"
   ]
  },
  {
   "cell_type": "code",
   "execution_count": null,
   "metadata": {},
   "outputs": [],
   "source": [
    "db = DBSCAN(min_samples=100)\n",
    "db.fit(X_train)\n",
    "db.labels_"
   ]
  },
  {
   "cell_type": "code",
   "execution_count": null,
   "metadata": {},
   "outputs": [],
   "source": [
    "pd.DataFrame(db.labels_)[0].unique()"
   ]
  },
  {
   "cell_type": "markdown",
   "metadata": {},
   "source": [
    "----------\n",
    "----------"
   ]
  },
  {
   "cell_type": "markdown",
   "metadata": {},
   "source": [
    "Catboost"
   ]
  },
  {
   "cell_type": "code",
   "execution_count": null,
   "metadata": {},
   "outputs": [],
   "source": [
    "from catboost import CatBoost, Pool, CatBoostClassifier"
   ]
  },
  {
   "cell_type": "code",
   "execution_count": null,
   "metadata": {},
   "outputs": [],
   "source": [
    "Xdf = data.iloc[:,1:]\n",
    "ydf = data.iloc[:,0]\n",
    "X_train_origdf, X_test_origdf,y_train_origdf, y_test_origdf = train_test_split(Xdf,ydf, shuffle= True, stratify=y)"
   ]
  },
  {
   "cell_type": "code",
   "execution_count": null,
   "metadata": {},
   "outputs": [],
   "source": [
    "cat_features= ['Gender', 'Occupation']"
   ]
  },
  {
   "cell_type": "code",
   "execution_count": null,
   "metadata": {},
   "outputs": [],
   "source": [
    "model_cb = CatBoostClassifier(task_type='CPU', iterations = 100,\n",
    "                             random_state=2021,\n",
    "                             eval_metric='F1')"
   ]
  },
  {
   "cell_type": "code",
   "execution_count": null,
   "metadata": {},
   "outputs": [],
   "source": [
    "model_cb.fit(X_train_origdf,y_train_origdf, cat_features=cat_features, plot=True)"
   ]
  },
  {
   "cell_type": "code",
   "execution_count": null,
   "metadata": {},
   "outputs": [],
   "source": [
    "y_pred = model_cb.predict(X_test_origdf)"
   ]
  },
  {
   "cell_type": "code",
   "execution_count": null,
   "metadata": {},
   "outputs": [],
   "source": [
    "f1 = f1_score(y_test_origdf,y_pred)"
   ]
  },
  {
   "cell_type": "code",
   "execution_count": null,
   "metadata": {},
   "outputs": [],
   "source": [
    "classification_report(y_test_origdf,y_pred, type_of_classifier='CatBoost')\n",
    "plot_roc_curve(model_cb, X_test_origdf, y_test_orig)\n",
    "plt.show()\n",
    "error_plot(model_cb.predict_proba(X_test_origdf), y_test_orig)\n",
    "plot_confusion_matrix(model_cb, X_test_origdf, y_test_orig, cmap = 'BuPu')\n",
    "\n",
    "plt.show()\n",
    "(pd.Series(model_cb.feature_importances_, index=X_test_origdf.iloc[:,:].columns)\n",
    "   .nlargest(8)\n",
    "   .plot(kind='barh'))\n",
    "plt.show()"
   ]
  },
  {
   "cell_type": "markdown",
   "metadata": {},
   "source": [
    "cb = CatBoost({'iterations': 100, 'verbose': False, 'random_seed': 42})\n",
    "cb.fit(train_pool);\n",
    "print(cb.eval_metrics(validation_pool, ['Recall'])['Recall'][-1])"
   ]
  },
  {
   "cell_type": "markdown",
   "metadata": {},
   "source": [
    "------"
   ]
  },
  {
   "cell_type": "code",
   "execution_count": null,
   "metadata": {},
   "outputs": [],
   "source": [
    "X_train_origdf, X_test_origdf,y_train_origdf, y_test_origdf = train_test_split(Xdf,ydf, shuffle= True, stratify=y)"
   ]
  },
  {
   "cell_type": "code",
   "execution_count": null,
   "metadata": {},
   "outputs": [],
   "source": [
    "X_train_origdf, X_test_origdf,y_train_origdf, y_test_origdf = train_test_split(Xdf,ydf, shuffle= True, stratify=y)"
   ]
  },
  {
   "cell_type": "code",
   "execution_count": null,
   "metadata": {},
   "outputs": [],
   "source": [
    "# X_under_train_df, y_under_train_df = NearMiss().fit_resample(X_train_origdf, y_train_origdf)\n",
    "\n",
    "\n",
    "X_over_train_df, y_over_train_df = SMOTE().fit_resample(X_train_origdf, y_train_origdf)\n"
   ]
  },
  {
   "cell_type": "code",
   "execution_count": null,
   "metadata": {},
   "outputs": [],
   "source": []
  },
  {
   "cell_type": "code",
   "execution_count": null,
   "metadata": {},
   "outputs": [],
   "source": [
    "model_cbU = CatBoostClassifier(task_type='CPU', iterations = 100,\n",
    "                             random_state=2021,\n",
    "                             eval_metric='F1')"
   ]
  },
  {
   "cell_type": "code",
   "execution_count": null,
   "metadata": {},
   "outputs": [],
   "source": [
    "model_cbU.fit(X_train_origdf,y_train_origdf, cat_features=cat_features, plot=True)"
   ]
  },
  {
   "cell_type": "code",
   "execution_count": null,
   "metadata": {},
   "outputs": [],
   "source": []
  },
  {
   "cell_type": "code",
   "execution_count": null,
   "metadata": {},
   "outputs": [],
   "source": []
  },
  {
   "cell_type": "code",
   "execution_count": null,
   "metadata": {},
   "outputs": [],
   "source": []
  },
  {
   "cell_type": "code",
   "execution_count": null,
   "metadata": {},
   "outputs": [],
   "source": []
  },
  {
   "cell_type": "code",
   "execution_count": null,
   "metadata": {},
   "outputs": [],
   "source": []
  },
  {
   "cell_type": "code",
   "execution_count": null,
   "metadata": {},
   "outputs": [],
   "source": []
  },
  {
   "cell_type": "markdown",
   "metadata": {},
   "source": [
    "Xgboost"
   ]
  },
  {
   "cell_type": "code",
   "execution_count": null,
   "metadata": {},
   "outputs": [],
   "source": [
    "train_orig_DM = xgb.DMatrix(X_train, label= y_train_orig)\n",
    "train_under_DM = xgb.DMatrix(X_under_train, label= y_under_train)\n",
    "train_over_DM = xgb.DMatrix(X_over_train, label= y_over_train)\n",
    "\n",
    "test_DM = xgb.DMatrix(X_test, label= y_test_orig)\n",
    "test_DMu = xgb.DMatrix(X_under_test, label= y_test_orig)\n",
    "test_DMo = xgb.DMatrix(X_over_test, label= y_test_orig)"
   ]
  },
  {
   "cell_type": "code",
   "execution_count": null,
   "metadata": {},
   "outputs": [],
   "source": [
    "param = {\n",
    "    'max_depth': 5,\n",
    "    'eta': 0.1,\n",
    "    'objective': 'multi:softmax',\n",
    "    'num_class': 2\n",
    "}\n",
    "\n",
    "epochs = 10"
   ]
  },
  {
   "cell_type": "code",
   "execution_count": null,
   "metadata": {},
   "outputs": [],
   "source": [
    "xgb_cl0 = xgb.train(param, train_orig_DM, epochs)\n",
    "predictions = xgb_cl0.predict(test_DM)\n",
    "classification_report(y_test_orig, predictions, 'Original', 'XgBoost')\n",
    "confusion_matrix(y_test_orig,predictions)"
   ]
  },
  {
   "cell_type": "code",
   "execution_count": null,
   "metadata": {},
   "outputs": [],
   "source": [
    "xgb_cl1 = xgb.train(param, train_under_DM, epochs)\n",
    "predictions = xgb_cl1.predict(test_DM)\n",
    "classification_report(y_test_orig, predictions, 'Undersampled', 'XgBoost')\n",
    "confusion_matrix(y_test_orig,predictions)"
   ]
  },
  {
   "cell_type": "code",
   "execution_count": null,
   "metadata": {},
   "outputs": [],
   "source": [
    "xgb_cl2 = xgb.train(param, train_over_DM, epochs)\n",
    "predictions = xgb_cl2.predict(test_DM)\n",
    "classification_report(y_test_orig, predictions, 'Oversampled', 'XgBoost')\n",
    "confusion_matrix(y_test_orig,predictions)"
   ]
  },
  {
   "cell_type": "markdown",
   "metadata": {},
   "source": [
    "------------"
   ]
  },
  {
   "cell_type": "code",
   "execution_count": null,
   "metadata": {},
   "outputs": [],
   "source": [
    "for i in range(2,5):\n",
    "    knnO = KNeighborsClassifier(n_neighbors = 5, p =i)\n",
    "    knnO.fit(X_over_train, y_over_train)\n",
    "    y_predict_knnO= knnO.predict(X_over_test)\n",
    "    classification_report(y_test_orig, y_predict_knnO, 'Oversampled', 'KNN')\n",
    "    plot_roc_curve(knnO, X_over_test, y_test_orig)\n",
    "    plt.show()\n",
    "    error_plot(knnO.predict_proba(X_over_test), y_test_orig)\n",
    "    plot_confusion_matrix(knnO, X_over_test, y_test_orig, cmap = 'BuPu')\n",
    "    # cross_val_report(knn, X_over_train, y_over_train)"
   ]
  },
  {
   "cell_type": "code",
   "execution_count": null,
   "metadata": {},
   "outputs": [],
   "source": [
    "from sklearn.neighbors import RadiusNeighborsClassifier"
   ]
  },
  {
   "cell_type": "code",
   "execution_count": null,
   "metadata": {},
   "outputs": [],
   "source": [
    "clf_rnc = RadiusNeighborsClassifier(radius=2)\n",
    "clf_rnc.fit(X_over_train, y_over_train)\n",
    "y_predict_rnc= clf_rnc.predict(X_over_test)\n",
    "classification_report(y_test_orig, y_predict_rnc, 'Oversampled', 'RNC')\n",
    "plot_roc_curve(clf_rnc, X_over_test, y_test_orig)\n",
    "plt.show()\n",
    "error_plot(clf_rnc.predict_proba(X_over_test), y_test_orig)\n",
    "plot_confusion_matrix(clf_rnc, X_over_test, y_test_orig, cmap = 'BuPu')\n",
    "# cross_val_report(knn, X_over_train, y_over_train)"
   ]
  },
  {
   "cell_type": "code",
   "execution_count": null,
   "metadata": {},
   "outputs": [],
   "source": [
    "clf_rnc = RadiusNeighborsClassifier(radius=3)\n",
    "clf_rnc.fit(X_over_train, y_over_train)\n",
    "y_predict_rnc= clf_rnc.predict(X_over_test)\n",
    "classification_report(y_test_orig, y_predict_rnc, 'Oversampled', 'RNC')\n",
    "plot_roc_curve(clf_rnc, X_over_test, y_test_orig)\n",
    "plt.show()\n",
    "error_plot(clf_rnc.predict_proba(X_over_test), y_test_orig)\n",
    "plot_confusion_matrix(clf_rnc, X_over_test, y_test_orig, cmap = 'BuPu')\n",
    "# cross_val_report(knn, X_over_train, y_over_train)"
   ]
  },
  {
   "cell_type": "code",
   "execution_count": null,
   "metadata": {},
   "outputs": [],
   "source": []
  }
 ],
 "metadata": {
  "kernelspec": {
   "display_name": "Python 3",
   "language": "python",
   "name": "python3"
  },
  "language_info": {
   "codemirror_mode": {
    "name": "ipython",
    "version": 3
   },
   "file_extension": ".py",
   "mimetype": "text/x-python",
   "name": "python",
   "nbconvert_exporter": "python",
   "pygments_lexer": "ipython3",
   "version": "3.7.1"
  }
 },
 "nbformat": 4,
 "nbformat_minor": 4
}
